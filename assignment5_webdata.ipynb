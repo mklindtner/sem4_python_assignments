{
 "cells": [
  {
   "cell_type": "code",
   "execution_count": null,
   "metadata": {},
   "outputs": [],
   "source": [
    "#assignment 1\n",
    "from flask import Flask, request, jsonify, make_response\n",
    "\n",
    "app = Flask(__name__)\n",
    "SERVER_PASSWORD = \"a9\"\n",
    "\n",
    "@app.route('/', methods=['POST', 'GET'])\n",
    "def hello_world():\n",
    "    json_obj = request.get_json()\n",
    "    secret = json_obj['password']\n",
    "    mr = make_response()\n",
    "    if secret == SERVER_PASSWORD:\n",
    "        mr.status_code = 200\n",
    "        return mr\n",
    "    mr.status_code = 403\n",
    "    return mr\n",
    "\n",
    "if __name__ == '__main__':\n",
    "    app.run()\n"
   ]
  },
  {
   "cell_type": "code",
   "execution_count": null,
   "metadata": {},
   "outputs": [],
   "source": [
    "#assignment 2\n",
    "import string\n",
    "import requests\n",
    "import json\n",
    "\n",
    "all_letters = string.ascii_letters + string.digits\n",
    "all_ascii = []\n",
    "\n",
    "\n",
    "def generate_all_ascii_chars(letters):\n",
    "    cur_comb = \"\"\n",
    "    found = False\n",
    "    for c in letters:\n",
    "        for d in letters:\n",
    "            cur_comb = c + d\n",
    "            all_ascii.append(cur_comb)\n",
    "            print(hackerman_hackserver(cur_comb))\n",
    "            if hackerman_hackserver(cur_comb) == 200:\n",
    "                print(\"SUPER HACKED\")\n",
    "                print(\"PW:\" + cur_comb)\n",
    "                found = True\n",
    "            if found:\n",
    "                break\n",
    "        if found:\n",
    "            break\n",
    "        print(all_ascii[len(all_ascii)-1])\n",
    "\n",
    "\n",
    "def hackerman_hackserver(password):\n",
    "    call = {}\n",
    "    call['password'] = password\n",
    "    headers = {'content-type': 'application/json'}\n",
    "    r = requests.post('http://127.0.0.1:5000/', headers=headers, json=call)\n",
    "    return r.status_code\n",
    "\n",
    "\n",
    "generate_all_ascii_chars(all_letters)"
   ]
  }
 ],
 "metadata": {
  "kernelspec": {
   "display_name": "Python 3",
   "language": "python",
   "name": "python3"
  },
  "language_info": {
   "codemirror_mode": {
    "name": "ipython",
    "version": 3
   },
   "file_extension": ".py",
   "mimetype": "text/x-python",
   "name": "python",
   "nbconvert_exporter": "python",
   "pygments_lexer": "ipython3",
   "version": "3.7.1"
  }
 },
 "nbformat": 4,
 "nbformat_minor": 2
}
