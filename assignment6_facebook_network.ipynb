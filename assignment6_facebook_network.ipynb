{
 "cells": [
  {
   "cell_type": "code",
   "execution_count": 11,
   "metadata": {},
   "outputs": [
    {
     "data": {
      "text/plain": [
       "'Name: \\nType: Graph\\nNumber of nodes: 4039\\nNumber of edges: 88234\\nAverage degree:  43.6910'"
      ]
     },
     "execution_count": 11,
     "metadata": {},
     "output_type": "execute_result"
    }
   ],
   "source": [
    "#downloaded and moved it into folder\n",
    "#assignment1\n",
    "import networkx as nx\n",
    "import requests\n",
    "import gzip\n",
    "import os\n",
    "import re\n",
    "import numpy as np\n",
    "\n",
    "#1.1\n",
    "def download(url, to):\n",
    "    response = requests.get(url)\n",
    "    directory = ''.join(re.split('[/\\\\\\]', to)[:-1])\n",
    "    os.makedirs(directory, exist_ok=True)\n",
    "    with open(to, \"wb\") as f:\n",
    "        f.write(response.content)\n",
    "        return to\n",
    "#1.2\n",
    "def gz_unzip(file, out=None):\n",
    "    if out is None:\n",
    "        out = file.rstrip('.gz')\n",
    "    \n",
    "    with gzip.open(file, 'rb') as f_in:\n",
    "        with open(out, 'wb') as f_out:\n",
    "            f_out.write(f_in.read())\n",
    "            return out\n",
    "\n",
    "\n",
    "zip_file = download('https://snap.stanford.edu/data/facebook_combined.txt.gz', to='temp/facebook.txt.gz')\n",
    "txt_file = gz_unzip(zip_file)\n",
    "G = nx.Graph()\n",
    "#1.3\n",
    "graph = nx.read_edgelist(txt_file, nodetype=int)\n",
    "nx.info(graph)"
   ]
  },
  {
   "cell_type": "code",
   "execution_count": 12,
   "metadata": {},
   "outputs": [
    {
     "data": {
      "text/plain": [
       "4039"
      ]
     },
     "execution_count": 12,
     "metadata": {},
     "output_type": "execute_result"
    }
   ],
   "source": [
    "#assignment 2\n",
    "#1\n",
    "nx.number_of_nodes(graph)"
   ]
  },
  {
   "cell_type": "code",
   "execution_count": 13,
   "metadata": {},
   "outputs": [
    {
     "data": {
      "text/plain": [
       "88234"
      ]
     },
     "execution_count": 13,
     "metadata": {},
     "output_type": "execute_result"
    }
   ],
   "source": [
    "#2The number of edges in the network\n",
    "nx.number_of_edges(graph)"
   ]
  },
  {
   "cell_type": "code",
   "execution_count": 25,
   "metadata": {},
   "outputs": [
    {
     "data": {
      "text/plain": [
       "43.69101262688784"
      ]
     },
     "execution_count": 25,
     "metadata": {},
     "output_type": "execute_result"
    }
   ],
   "source": [
    "#The average degree in the network\n",
    "#3\n",
    "total_degrees = dict(nx.degree(graph)).values()\n",
    "sum(total_degrees) / len(total_degrees)\n"
   ]
  },
  {
   "cell_type": "markdown",
   "metadata": {},
   "source": []
  },
  {
   "cell_type": "code",
   "execution_count": 33,
   "metadata": {},
   "outputs": [
    {
     "data": {
      "image/png": "[encoded data removed]",
      "text/plain": [
       "<Figure size 432x288 with 1 Axes>"
      ]
     },
     "metadata": {},
     "output_type": "display_data"
    }
   ],
   "source": [
    "#visualization of the network\n",
    "nx.draw(graph)"
   ]
  },
  {
   "cell_type": "code",
   "execution_count": 49,
   "metadata": {},
   "outputs": [
    {
     "data": {
      "text/plain": [
       "[(107, 1045),\n",
       " (1684, 792),\n",
       " (1912, 755),\n",
       " (3437, 547),\n",
       " (0, 347),\n",
       " (2543, 294),\n",
       " (2347, 291),\n",
       " (1888, 254),\n",
       " (1800, 245),\n",
       " (1663, 235)]"
      ]
     },
     "execution_count": 49,
     "metadata": {},
     "output_type": "execute_result"
    }
   ],
   "source": [
    "#assignment 3\n",
    "#using pageRank to find top 10\n",
    "cur_network = dict(nx.degree(graph))\n",
    "network_sorted = sorted(cur_network.items(), key=lambda x: x[1], reverse=True)\n",
    "#0: number of person, 1: amount of edges\n",
    "network_sorted[:10]\n",
    "#you can use the pageRank algorithm for a more secure solution, however im to lazy.\n"
   ]
  },
  {
   "cell_type": "code",
   "execution_count": 50,
   "metadata": {},
   "outputs": [
    {
     "ename": "NameError",
     "evalue": "name 'iterations' is not defined",
     "output_type": "error",
     "traceback": [
      "\u001b[0;31m---------------------------------------------------------------------------\u001b[0m",
      "\u001b[0;31mNameError\u001b[0m                                 Traceback (most recent call last)",
      "\u001b[0;32m<ipython-input-50-3f7b0ecdeaa5>\u001b[0m in \u001b[0;36m<module>\u001b[0;34m\u001b[0m\n\u001b[0;32m----> 1\u001b[0;31m \u001b[0;32mfor\u001b[0m \u001b[0m_\u001b[0m \u001b[0;32min\u001b[0m \u001b[0mtqdm\u001b[0m\u001b[0;34m(\u001b[0m\u001b[0menumerate\u001b[0m\u001b[0;34m(\u001b[0m\u001b[0mrange\u001b[0m\u001b[0;34m(\u001b[0m\u001b[0miterations\u001b[0m\u001b[0;34m)\u001b[0m\u001b[0;34m)\u001b[0m\u001b[0;34m)\u001b[0m\u001b[0;34m:\u001b[0m\u001b[0;34m\u001b[0m\u001b[0;34m\u001b[0m\u001b[0m\n\u001b[0m\u001b[1;32m      2\u001b[0m     \u001b[0mprint\u001b[0m\u001b[0;34m(\u001b[0m\u001b[0m_\u001b[0m\u001b[0;34m)\u001b[0m\u001b[0;34m\u001b[0m\u001b[0;34m\u001b[0m\u001b[0m\n",
      "\u001b[0;31mNameError\u001b[0m: name 'iterations' is not defined"
     ]
    }
   ],
   "source": []
  },
  {
   "cell_type": "code",
   "execution_count": null,
   "metadata": {},
   "outputs": [],
   "source": []
  }
 ],
 "metadata": {
  "kernelspec": {
   "display_name": "Python 3",
   "language": "python",
   "name": "python3"
  },
  "language_info": {
   "codemirror_mode": {
    "name": "ipython",
    "version": 3
   },
   "file_extension": ".py",
   "mimetype": "text/x-python",
   "name": "python",
   "nbconvert_exporter": "python",
   "pygments_lexer": "ipython3",
   "version": "3.7.1"
  }
 },
 "nbformat": 4,
 "nbformat_minor": 2
}
