{
 "cells": [
  {
   "cell_type": "code",
   "execution_count": 11,
   "metadata": {},
   "outputs": [
    {
     "data": {
      "text/plain": [
       "'Name: \\nType: Graph\\nNumber of nodes: 4039\\nNumber of edges: 88234\\nAverage degree:  43.6910'"
      ]
     },
     "execution_count": 11,
     "metadata": {},
     "output_type": "execute_result"
    }
   ],
   "source": [
    "#downloaded and moved it into folder\n",
    "#assignment1\n",
    "import networkx as nx\n",
    "import requests\n",
    "import gzip\n",
    "import os\n",
    "import re\n",
    "import numpy as np\n",
    "\n",
    "#1.1\n",
    "def download(url, to):\n",
    "    response = requests.get(url)\n",
    "    directory = ''.join(re.split('[/\\\\\\]', to)[:-1])\n",
    "    os.makedirs(directory, exist_ok=True)\n",
    "    with open(to, \"wb\") as f:\n",
    "        f.write(response.content)\n",
    "        return to\n",
    "#1.2\n",
    "def gz_unzip(file, out=None):\n",
    "    if out is None:\n",
    "        out = file.rstrip('.gz')\n",
    "    \n",
    "    with gzip.open(file, 'rb') as f_in:\n",
    "        with open(out, 'wb') as f_out:\n",
    "            f_out.write(f_in.read())\n",
    "            return out\n",
    "\n",
    "\n",
    "zip_file = download('https://snap.stanford.edu/data/facebook_combined.txt.gz', to='temp/facebook.txt.gz')\n",
    "txt_file = gz_unzip(zip_file)\n",
    "G = nx.Graph()\n",
    "#1.3\n",
    "graph = nx.read_edgelist(txt_file, nodetype=int)\n",
    "nx.info(graph)"
   ]
  },
  {
   "cell_type": "code",
   "execution_count": null,
   "metadata": {},
   "outputs": [],
   "source": []
  }
 ],
 "metadata": {
  "kernelspec": {
   "display_name": "Python 3",
   "language": "python",
   "name": "python3"
  },
  "language_info": {
   "codemirror_mode": {
    "name": "ipython",
    "version": 3
   },
   "file_extension": ".py",
   "mimetype": "text/x-python",
   "name": "python",
   "nbconvert_exporter": "python",
   "pygments_lexer": "ipython3",
   "version": "3.7.1"
  }
 },
 "nbformat": 4,
 "nbformat_minor": 2
}
