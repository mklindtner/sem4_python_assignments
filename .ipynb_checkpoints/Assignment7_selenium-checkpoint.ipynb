{
 "cells": [
  {
   "cell_type": "code",
   "execution_count": 75,
   "metadata": {},
   "outputs": [],
   "source": [
    "#I Choose Thomas Assignemnt\n",
    "from selenium import webdriver\n",
    "from selenium.webdriver.common.by import By\n",
    "import collections\n",
    "import pandas as pd\n",
    "\n",
    "\n",
    "#Part 1\n",
    "class Post():\n",
    "    def __init__(self, id, title, score, subreddit):\n",
    "        self.id = id\n",
    "        self.title = title\n",
    "        self.score = score\n",
    "        self.subreddit = subreddit\n",
    "\n",
    "    def __str__(self):\n",
    "        return \"{}, {}, {}, {}\".format(self.id, self.title, self.score, self.subreddit)\n",
    "\n",
    "\n",
    "\n",
    "def reddit_top_posts(url_amount=100):\n",
    "    results = []\n",
    "    while (len(results) < url_amount):\n",
    "        links = browser.find_elements_by_css_selector('#siteTable>div.link')\n",
    "        for link in links:\n",
    "            _id = link.get_property('id')\n",
    "            title = link.find_element_by_xpath(\".//a[contains(@class, 'title')]\").text\n",
    "            score = link.get_attribute('data-score')\n",
    "            subreddit = link.get_attribute('data-subreddit')\n",
    "            results.append(Post(_id, title, score, subreddit))\n",
    "        browser.find_element_by_class_name('next-button').click()\n",
    "    return results\n",
    "\n",
    "browser = webdriver.Firefox(executable_path=r'/home/mkl/geckodriver')\n",
    "browser.get('https://old.reddit.com/top/?sort=top&t=all')\n",
    "\n",
    "first = reddit_top_posts()"
   ]
  },
  {
   "cell_type": "code",
   "execution_count": 60,
   "metadata": {},
   "outputs": [
    {
     "data": {
      "text/plain": [
       "<matplotlib.axes._subplots.AxesSubplot at 0x7f3570aa1c18>"
      ]
     },
     "execution_count": 60,
     "metadata": {},
     "output_type": "execute_result"
    },
    {
     "data": {
      "image/png": "[encoded data removed]",
      "text/plain": [
       "<Figure size 432x288 with 1 Axes>"
      ]
     },
     "metadata": {
      "needs_background": "light"
     },
     "output_type": "display_data"
    }
   ],
   "source": [
    "#Part 2\n",
    "def frequency_subreddits(results):\n",
    "    freq = {}\n",
    "    for res in results:\n",
    "        if res.subreddit in freq:\n",
    "            freq[res.subreddit] += 1\n",
    "        else:\n",
    "            freq[res.subreddit] = 1\n",
    "    sorted_tuplets = sorted(freq.items(), key= lambda kv: kv[1], reverse=True)\n",
    "    sorted_dict = collections.OrderedDict(sorted_tuplets)\n",
    "    return sorted_dict\n",
    "    \n",
    "\n",
    "sorted_dict = dict(frequency_subreddits(first))\n",
    "keys = []\n",
    "values = []\n",
    "for x in sorted_dict.keys():\n",
    "    keys.append(x)\n",
    "for x in sorted_dict.values():\n",
    "    values.append(x)\n",
    "freq_chart = pd.DataFrame({'subreddits':keys, 'vals':values})\n",
    "freq_chart.plot.bar(x='subreddits', y='vals')\n"
   ]
  },
  {
   "cell_type": "code",
   "execution_count": 76,
   "metadata": {},
   "outputs": [
    {
     "name": "stdout",
     "output_type": "stream",
     "text": [
      "4\n"
     ]
    }
   ],
   "source": [
    "#Part 3\n",
    "def search_reddit(search_term, n):\n",
    "    #search in bar\n",
    "    search_bar = browser.find_element_by_name(\"q\")\n",
    "    search_bar.send_keys(search_term)\n",
    "    search_bar.submit()\n",
    "    browser.implicitly_wait(3)\n",
    "    \n",
    "    posts = []\n",
    "    \n",
    "    while(len(posts) < n):\n",
    "        contents = browser.find_elements_by_class_name('contents')\n",
    "        search_results = contents[1].find_elements_by_class_name('search-result')\n",
    "        for search_result in search_results:\n",
    "            if(len(posts)+1 > n):\n",
    "                break\n",
    "            #create posts\n",
    "            link_header = search_result.find_element_by_class_name('search-result-header')\n",
    "            title = link_header.text\n",
    "            score = search_result.find_element_by_class_name('search-score').text\n",
    "            subreddit = search_result.find_element_by_class_name('search-subreddit-link').text\n",
    "            id = None\n",
    "            posts.append(Post(id, title, score, subreddit))\n",
    "        browser.find_element_by_css_selector('.nav-buttons .nextprev a').click()\n",
    "    return posts\n",
    "\n",
    "print(len(search_reddit('bob', 4)))"
   ]
  },
  {
   "cell_type": "code",
   "execution_count": 56,
   "metadata": {},
   "outputs": [],
   "source": []
  },
  {
   "cell_type": "code",
   "execution_count": null,
   "metadata": {},
   "outputs": [],
   "source": []
  }
 ],
 "metadata": {
  "kernelspec": {
   "display_name": "Python 3",
   "language": "python",
   "name": "python3"
  },
  "language_info": {
   "codemirror_mode": {
    "name": "ipython",
    "version": 3
   },
   "file_extension": ".py",
   "mimetype": "text/x-python",
   "name": "python",
   "nbconvert_exporter": "python",
   "pygments_lexer": "ipython3",
   "version": "3.7.1"
  }
 },
 "nbformat": 4,
 "nbformat_minor": 2
}
