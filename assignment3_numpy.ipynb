{
 "cells": [
  {
   "cell_type": "code",
   "execution_count": 8,
   "metadata": {},
   "outputs": [],
   "source": [
    "import numpy as np\n",
    "import csv"
   ]
  },
  {
   "cell_type": "code",
   "execution_count": 17,
   "metadata": {},
   "outputs": [],
   "source": [
    "#assignment2 \n",
    "data = np.genfromtxt('ccp.csv', delimiter=',', dtype=np.uint, skip_header=1)    "
   ]
  },
  {
   "cell_type": "code",
   "execution_count": 90,
   "metadata": {},
   "outputs": [
    {
     "name": "stdout",
     "output_type": "stream",
     "text": [
      "english speaking: 131009.0\n",
      "non english speaking: 12038387.0\n"
     ]
    }
   ],
   "source": [
    "#assignment3 it's assumed only england and USA is english speaking countries\n",
    "english_stat_code = [5390, 5170]\n",
    "\n",
    "#1D array of indices where req occurs on third column in 2D array\n",
    "USA_citizens_occurence = np.where(data[:,3] == english_stat_code[0])\n",
    "ENG_citizens_occurence = np.where(data[:,3] == english_stat_code[1])\n",
    "\n",
    "#fancy indexing\n",
    "USA_citizens = data[USA_citizens_occurence]\n",
    "ENG_citizens = data[ENG_citizens_occurence]\n",
    "\n",
    "english_speaking = sum(USA_citizens[:,4]) + sum(ENG_citizens[:,4]) \n",
    "non_english_speaking = sum(data[:,4]) - english_speaking\n",
    "print(\"english speaking: \" + str(english_speaking))\n",
    "print(\"non english speaking: \" + str(non_english_speaking))"
   ]
  },
  {
   "cell_type": "code",
   "execution_count": null,
   "metadata": {},
   "outputs": [],
   "source": []
  },
  {
   "cell_type": "code",
   "execution_count": null,
   "metadata": {},
   "outputs": [],
   "source": []
  }
 ],
 "metadata": {
  "kernelspec": {
   "display_name": "Python 3",
   "language": "python",
   "name": "python3"
  },
  "language_info": {
   "codemirror_mode": {
    "name": "ipython",
    "version": 3
   },
   "file_extension": ".py",
   "mimetype": "text/x-python",
   "name": "python",
   "nbconvert_exporter": "python",
   "pygments_lexer": "ipython3",
   "version": "3.7.1"
  }
 },
 "nbformat": 4,
 "nbformat_minor": 2
}
